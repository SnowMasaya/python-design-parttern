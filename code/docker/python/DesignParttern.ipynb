{
 "cells": [
  {
   "cell_type": "markdown",
   "metadata": {},
   "source": [
    "# Abstract Factory"
   ]
  },
  {
   "cell_type": "code",
   "execution_count": 2,
   "metadata": {
    "collapsed": false
   },
   "outputs": [],
   "source": [
    "import random\n",
    "\n",
    "class PetShop(object):\n",
    "    \n",
    "    def __init__(self, animal_factory=None):\n",
    "        self.pet_factory = aimal_factory\n",
    "        \n",
    "    def show_pet(self):\n",
    "        pet = self.pet_dactory.get_pet()\n",
    "        print(\"We have a lovely {}\".format(pet))\n",
    "        print(\"It say {}\".format(pet.speak()))\n",
    "        print(\"We also have {}\".format(self.pet_factory.get_food()))"
   ]
  },
  {
   "cell_type": "code",
   "execution_count": 3,
   "metadata": {
    "collapsed": true
   },
   "outputs": [],
   "source": [
    "class Dog(object):\n",
    "    \n",
    "    def speak(self):\n",
    "        return \"woof\"\n",
    "    \n",
    "    def __str__(self):\n",
    "        return \"Dog\""
   ]
  },
  {
   "cell_type": "code",
   "execution_count": 4,
   "metadata": {
    "collapsed": true
   },
   "outputs": [],
   "source": [
    "class Cat(object):\n",
    "    \n",
    "    def speak(self):\n",
    "        return \"meow\"\n",
    "    \n",
    "    def __str__(self):\n",
    "        return \"Cat\""
   ]
  },
  {
   "cell_type": "code",
   "execution_count": 6,
   "metadata": {
    "collapsed": false
   },
   "outputs": [],
   "source": [
    "class DogFactory(object):\n",
    "    \n",
    "    def get_pet(self):\n",
    "        return Dog()\n",
    "        \n",
    "    def get_food(self):\n",
    "        return \"dog food\""
   ]
  },
  {
   "cell_type": "code",
   "execution_count": 7,
   "metadata": {
    "collapsed": true
   },
   "outputs": [],
   "source": [
    "class CatFactory(object):\n",
    "    \n",
    "    def get_pet(self):\n",
    "        return Cat()\n",
    "        \n",
    "    def get_food(self):\n",
    "        return \"cat food\""
   ]
  },
  {
   "cell_type": "code",
   "execution_count": 8,
   "metadata": {
    "collapsed": true
   },
   "outputs": [],
   "source": [
    "def get_factory():\n",
    "    return random.choice([DogFactory, CatFactory])()"
   ]
  },
  {
   "cell_type": "code",
   "execution_count": null,
   "metadata": {
    "collapsed": true
   },
   "outputs": [],
   "source": [
    "for i in range(3):\n",
    "    shop = PetShop(get_factory())\n",
    "    show.show_pet()\n",
    "    print(\"=\" * 20)"
   ]
  }
 ],
 "metadata": {
  "kernelspec": {
   "display_name": "Python 3",
   "language": "python",
   "name": "python3"
  },
  "language_info": {
   "codemirror_mode": {
    "name": "ipython",
    "version": 3.0
   },
   "file_extension": ".py",
   "mimetype": "text/x-python",
   "name": "python",
   "nbconvert_exporter": "python",
   "pygments_lexer": "ipython3",
   "version": "3.4.3"
  }
 },
 "nbformat": 4,
 "nbformat_minor": 0
}